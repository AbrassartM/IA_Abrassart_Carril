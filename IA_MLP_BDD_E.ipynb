{
 "cells": [
  {
   "cell_type": "markdown",
   "metadata": {},
   "source": [
    "# IA - Modèle MLP - BDD signaux exploitables"
   ]
  },
  {
   "cell_type": "code",
   "execution_count": 1,
   "metadata": {},
   "outputs": [],
   "source": [
    "import matplotlib.pyplot as plt\n",
    "import tensorflow as tf\n",
    "import numpy as np\n",
    "import Fonctions_BDD_Signaux_Artificiels as BDD\n",
    "from sklearn.preprocessing import OneHotEncoder\n",
    "from sklearn.utils import shuffle\n",
    "import seaborn as sns"
   ]
  },
  {
   "cell_type": "markdown",
   "metadata": {},
   "source": [
    "### Définition de la BDD"
   ]
  },
  {
   "cell_type": "code",
   "execution_count": 19,
   "metadata": {},
   "outputs": [
    {
     "name": "stdout",
     "output_type": "stream",
     "text": [
      "Liste complète 240\n",
      "75% 180\n",
      "25% 60\n"
     ]
    }
   ],
   "source": [
    "liste_comp = BDD.BDD_type('E')\n",
    "\n",
    "liste_train = []\n",
    "liste_test = []\n",
    "for i in range(0,15):\n",
    "    liste_train.append(liste_comp[i])\n",
    "for i in range(20,35):\n",
    "    liste_train.append(liste_comp[i])\n",
    "for i in range(40,55):\n",
    "    liste_train.append(liste_comp[i])\n",
    "for i in range(60,75):\n",
    "    liste_train.append(liste_comp[i])\n",
    "for i in range(80,95):\n",
    "    liste_train.append(liste_comp[i])\n",
    "for i in range(100,115):\n",
    "    liste_train.append(liste_comp[i])\n",
    "for i in range(120,135):\n",
    "    liste_train.append(liste_comp[i])\n",
    "for i in range(140,155):\n",
    "    liste_train.append(liste_comp[i])\n",
    "for i in range(160,175):\n",
    "    liste_train.append(liste_comp[i])\n",
    "for i in range(180,195):\n",
    "    liste_train.append(liste_comp[i])\n",
    "for i in range(200,215):\n",
    "    liste_train.append(liste_comp[i])\n",
    "for i in range(220,235):\n",
    "    liste_train.append(liste_comp[i])\n",
    "\n",
    "    \n",
    "    \n",
    "for i in range(15,20):\n",
    "    liste_test.append(liste_comp[i])\n",
    "for i in range(35,40):\n",
    "    liste_test.append(liste_comp[i])\n",
    "for i in range(55,60):\n",
    "    liste_test.append(liste_comp[i])\n",
    "for i in range(75,80):\n",
    "    liste_test.append(liste_comp[i])\n",
    "for i in range(95,100):\n",
    "    liste_test.append(liste_comp[i])\n",
    "for i in range(115,120):\n",
    "    liste_test.append(liste_comp[i])\n",
    "for i in range(135,140):\n",
    "    liste_test.append(liste_comp[i])\n",
    "for i in range(155,160):\n",
    "    liste_test.append(liste_comp[i])\n",
    "for i in range(175,180):\n",
    "    liste_test.append(liste_comp[i])\n",
    "for i in range(195,200):\n",
    "    liste_test.append(liste_comp[i])\n",
    "for i in range(215,220):\n",
    "    liste_test.append(liste_comp[i])\n",
    "for i in range(235,240):\n",
    "    liste_test.append(liste_comp[i])\n",
    "\n",
    "print(\"Liste complète\", len(liste_comp))\n",
    "print(\"75%\", len(liste_train))\n",
    "print(\"25%\", len(liste_test))"
   ]
  },
  {
   "cell_type": "markdown",
   "metadata": {},
   "source": [
    "### Définition des labels"
   ]
  },
  {
   "cell_type": "code",
   "execution_count": 3,
   "metadata": {},
   "outputs": [
    {
     "name": "stdout",
     "output_type": "stream",
     "text": [
      "180\n",
      "60\n"
     ]
    }
   ],
   "source": [
    "target_train = []\n",
    "target_test = []\n",
    "\n",
    "for i in range(0,45):\n",
    "    target_train.append('Gendarmerie')\n",
    "for i in range(45,90):\n",
    "    target_train.append('Police')    \n",
    "for i in range(90,135):\n",
    "    target_train.append('Pompiers')\n",
    "for i in range(135,180):\n",
    "    target_train.append('Samu')\n",
    "\n",
    "for i in range(0,15):\n",
    "    target_test.append('Gendarmerie')\n",
    "for i in range(15,30):\n",
    "    target_test.append('Police')\n",
    "for i in range(30,45):\n",
    "    target_test.append('Pompiers')\n",
    "for i in range(45,60):\n",
    "    target_test.append('Samu')\n",
    "\n",
    "print(len(target_train))\n",
    "print(len(target_test))"
   ]
  },
  {
   "cell_type": "markdown",
   "metadata": {},
   "source": [
    "### Mélange de la BDD"
   ]
  },
  {
   "cell_type": "code",
   "execution_count": 4,
   "metadata": {},
   "outputs": [],
   "source": [
    "liste_test_s, target_test_s = shuffle(liste_test, target_test)\n",
    "liste_train_s, target_train_s = shuffle(liste_train, target_train)"
   ]
  },
  {
   "cell_type": "markdown",
   "metadata": {},
   "source": [
    "### Définition de image_train et image_test"
   ]
  },
  {
   "cell_type": "code",
   "execution_count": 5,
   "metadata": {},
   "outputs": [
    {
     "name": "stdout",
     "output_type": "stream",
     "text": [
      "(180, 41, 27)\n",
      "(60, 41, 27)\n"
     ]
    }
   ],
   "source": [
    "image_train = BDD.return_image(liste_train_s, 'C:/Users/abras/OneDrive - etu.sorbonne-universite.fr/M1/Projet/Projet_final/Sirenes artificielles')\n",
    "image_test = BDD.return_image(liste_test_s, 'C:/Users/abras/OneDrive - etu.sorbonne-universite.fr/M1/Projet/Projet_final/Sirenes artificielles')\n",
    "\n",
    "print(image_train.shape)\n",
    "print(image_test.shape)"
   ]
  },
  {
   "cell_type": "markdown",
   "metadata": {},
   "source": [
    "### Encodage des label_train et label_test"
   ]
  },
  {
   "cell_type": "code",
   "execution_count": 6,
   "metadata": {},
   "outputs": [],
   "source": [
    "encodage = {\"Gendarmerie\":0, \"Police\":1, \"Pompiers\":2, \"Samu\":3}\n",
    "sirenes_labels_numeriques_train = []\n",
    "for label in target_train_s :\n",
    "    sirenes_labels_numeriques_train.append(encodage[label])\n",
    "\n",
    "sirenes_labels_numeriques_test = []\n",
    "for label in target_test_s :\n",
    "    sirenes_labels_numeriques_test.append(encodage[label])"
   ]
  },
  {
   "cell_type": "code",
   "execution_count": 7,
   "metadata": {},
   "outputs": [
    {
     "name": "stdout",
     "output_type": "stream",
     "text": [
      "(180, 4)\n",
      "(60, 4)\n"
     ]
    }
   ],
   "source": [
    "labels_train_onehot = tf.keras.utils.to_categorical(sirenes_labels_numeriques_train)\n",
    "labels_test_onehot = tf.keras.utils.to_categorical(sirenes_labels_numeriques_test)\n",
    "\n",
    "print(labels_train_onehot.shape)\n",
    "print(labels_test_onehot.shape)"
   ]
  },
  {
   "cell_type": "markdown",
   "metadata": {},
   "source": [
    "### IA test"
   ]
  },
  {
   "cell_type": "code",
   "execution_count": 8,
   "metadata": {},
   "outputs": [],
   "source": [
    "# On convertit nos valeurs en float\n",
    "\n",
    "image_train = image_train.astype(float)\n",
    "image_test = image_test.astype(float)\n",
    "\n",
    "# On normalise les pixels pour avoir des valeurs entre 0 et 1\n",
    "\n",
    "image_train = image_train/255\n",
    "image_test = image_test/255"
   ]
  },
  {
   "cell_type": "code",
   "execution_count": 9,
   "metadata": {},
   "outputs": [],
   "source": [
    "model = tf.keras.models.Sequential()"
   ]
  },
  {
   "cell_type": "code",
   "execution_count": 10,
   "metadata": {},
   "outputs": [],
   "source": [
    "model.add(tf.keras.layers.Flatten(input_shape=[41,27]))"
   ]
  },
  {
   "cell_type": "code",
   "execution_count": 11,
   "metadata": {},
   "outputs": [],
   "source": [
    "model.add(tf.keras.layers.Dense(400, activation=\"relu\"))\n",
    "model.add(tf.keras.layers.Dense(200, activation=\"relu\"))\n",
    "model.add(tf.keras.layers.Dense(4, activation=\"softmax\"))"
   ]
  },
  {
   "cell_type": "code",
   "execution_count": 12,
   "metadata": {},
   "outputs": [
    {
     "name": "stdout",
     "output_type": "stream",
     "text": [
      "Model: \"sequential\"\n",
      "_________________________________________________________________\n",
      "Layer (type)                 Output Shape              Param #   \n",
      "=================================================================\n",
      "flatten (Flatten)            (None, 1107)              0         \n",
      "_________________________________________________________________\n",
      "dense (Dense)                (None, 400)               443200    \n",
      "_________________________________________________________________\n",
      "dense_1 (Dense)              (None, 200)               80200     \n",
      "_________________________________________________________________\n",
      "dense_2 (Dense)              (None, 4)                 804       \n",
      "=================================================================\n",
      "Total params: 524,204\n",
      "Trainable params: 524,204\n",
      "Non-trainable params: 0\n",
      "_________________________________________________________________\n"
     ]
    }
   ],
   "source": [
    "model.summary()"
   ]
  },
  {
   "cell_type": "code",
   "execution_count": 13,
   "metadata": {},
   "outputs": [],
   "source": [
    "model.compile(\n",
    "    loss=\"categorical_crossentropy\",\n",
    "    optimizer=\"adam\",\n",
    "    metrics=[\"accuracy\"]\n",
    ")"
   ]
  },
  {
   "cell_type": "code",
   "execution_count": 14,
   "metadata": {},
   "outputs": [
    {
     "name": "stdout",
     "output_type": "stream",
     "text": [
      "Epoch 1/10\n",
      "6/6 [==============================] - 1s 68ms/step - loss: 49.0941 - accuracy: 0.6182 - val_loss: 13.7792 - val_accuracy: 0.7222\n",
      "Epoch 2/10\n",
      "6/6 [==============================] - 0s 16ms/step - loss: 5.3270 - accuracy: 0.8565 - val_loss: 0.0000e+00 - val_accuracy: 1.0000\n",
      "Epoch 3/10\n",
      "6/6 [==============================] - 0s 17ms/step - loss: 0.0000e+00 - accuracy: 1.0000 - val_loss: 0.0000e+00 - val_accuracy: 1.0000\n",
      "Epoch 4/10\n",
      "6/6 [==============================] - 0s 15ms/step - loss: 0.0234 - accuracy: 0.9962 - val_loss: 0.0000e+00 - val_accuracy: 1.0000\n",
      "Epoch 5/10\n",
      "6/6 [==============================] - 0s 21ms/step - loss: 0.0000e+00 - accuracy: 1.0000 - val_loss: 0.0000e+00 - val_accuracy: 1.0000\n",
      "Epoch 6/10\n",
      "6/6 [==============================] - 0s 14ms/step - loss: 0.0000e+00 - accuracy: 1.0000 - val_loss: 0.0000e+00 - val_accuracy: 1.0000\n",
      "Epoch 7/10\n",
      "6/6 [==============================] - 0s 16ms/step - loss: 0.0000e+00 - accuracy: 1.0000 - val_loss: 0.0000e+00 - val_accuracy: 1.0000\n",
      "Epoch 8/10\n",
      "6/6 [==============================] - 0s 15ms/step - loss: 0.0000e+00 - accuracy: 1.0000 - val_loss: 0.0000e+00 - val_accuracy: 1.0000\n",
      "Epoch 9/10\n",
      "6/6 [==============================] - 0s 14ms/step - loss: 0.0000e+00 - accuracy: 1.0000 - val_loss: 0.0000e+00 - val_accuracy: 1.0000\n",
      "Epoch 10/10\n",
      "6/6 [==============================] - 0s 18ms/step - loss: 0.0000e+00 - accuracy: 1.0000 - val_loss: 0.0000e+00 - val_accuracy: 1.0000\n"
     ]
    }
   ],
   "source": [
    "history = model.fit(image_train,\n",
    "                    labels_train_onehot,\n",
    "                    epochs=10,\n",
    "                    validation_split=0.1)"
   ]
  },
  {
   "cell_type": "code",
   "execution_count": 15,
   "metadata": {},
   "outputs": [
    {
     "data": {
      "image/png": "[encoded data removed]",
      "text/plain": [
       "<Figure size 432x288 with 1 Axes>"
      ]
     },
     "metadata": {
      "needs_background": "light"
     },
     "output_type": "display_data"
    },
    {
     "data": {
      "image/png": "[encoded data removed]",
      "text/plain": [
       "<Figure size 432x288 with 1 Axes>"
      ]
     },
     "metadata": {
      "needs_background": "light"
     },
     "output_type": "display_data"
    }
   ],
   "source": [
    "loss_curve = history.history[\"loss\"]\n",
    "acc_curve = history.history[\"accuracy\"]\n",
    "\n",
    "loss_val_curve = history.history[\"val_loss\"]\n",
    "acc_val_curve = history.history[\"val_accuracy\"]\n",
    "\n",
    "plt.figure()\n",
    "plt.plot(loss_curve, label=\"Train\")\n",
    "plt.plot(loss_val_curve, label=\"Val\")\n",
    "plt.legend(loc='upper left')\n",
    "plt.title(\"Loss\")\n",
    "plt.show()\n",
    "\n",
    "plt.figure()\n",
    "plt.plot(acc_curve, label=\"Train\")\n",
    "plt.plot(acc_val_curve, label=\"Val\")\n",
    "plt.legend(loc='upper left')\n",
    "plt.title(\"Accuracy\")\n",
    "plt.show()"
   ]
  },
  {
   "cell_type": "code",
   "execution_count": 16,
   "metadata": {},
   "outputs": [
    {
     "name": "stdout",
     "output_type": "stream",
     "text": [
      "2/2 [==============================] - 0s 3ms/step - loss: 0.0000e+00 - accuracy: 1.0000\n",
      "Test Loss 0.0\n",
      "Test Accuracy 1.0\n"
     ]
    }
   ],
   "source": [
    "loss, acc = model.evaluate(image_test, labels_test_onehot)\n",
    "print(\"Test Loss\", loss)\n",
    "print(\"Test Accuracy\", acc)"
   ]
  },
  {
   "cell_type": "code",
   "execution_count": 17,
   "metadata": {},
   "outputs": [
    {
     "data": {
      "image/png": "[encoded data removed]",
      "text/plain": [
       "<Figure size 720x576 with 2 Axes>"
      ]
     },
     "metadata": {
      "needs_background": "light"
     },
     "output_type": "display_data"
    }
   ],
   "source": [
    "y_pred = np.argmax(model.predict(image_test), axis=1)\n",
    "\n",
    "yy = []\n",
    "for i in range(0,len(target_test_s)):\n",
    "    if target_test_s[i] == 'Gendarmerie':\n",
    "        yy.append(0)\n",
    "    if target_test_s[i] == 'Police':\n",
    "        yy.append(1)\n",
    "    if target_test_s[i] == 'Pompiers':\n",
    "        yy.append(2)\n",
    "    if target_test_s[i] == 'Samu':\n",
    "        yy.append(3)\n",
    "\n",
    "commands = []\n",
    "commands.append('Gendarmerie')\n",
    "commands.append('Police')\n",
    "commands.append('Pompiers')\n",
    "commands.append('Samu')\n",
    "\n",
    "y_true = yy\n",
    "\n",
    "confusion_mtx = tf.math.confusion_matrix(y_true, y_pred) \n",
    "plt.figure(figsize=(10, 8))\n",
    "sns.heatmap(confusion_mtx, xticklabels=commands, yticklabels=commands, \n",
    "            annot=True, fmt='g')\n",
    "plt.xlabel('Prediction')\n",
    "plt.ylabel('Label')\n",
    "plt.show()"
   ]
  }
 ],
 "metadata": {
  "kernelspec": {
   "display_name": "Python 3",
   "language": "python",
   "name": "python3"
  },
  "language_info": {
   "codemirror_mode": {
    "name": "ipython",
    "version": 3
   },
   "file_extension": ".py",
   "mimetype": "text/x-python",
   "name": "python",
   "nbconvert_exporter": "python",
   "pygments_lexer": "ipython3",
   "version": "3.7.4"
  }
 },
 "nbformat": 4,
 "nbformat_minor": 4
}
