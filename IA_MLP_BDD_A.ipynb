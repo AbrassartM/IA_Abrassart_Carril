{
 "cells": [
  {
   "cell_type": "markdown",
   "metadata": {},
   "source": [
    "# IA - Modèle MLP - BDD signaux acceptables"
   ]
  },
  {
   "cell_type": "code",
   "execution_count": 71,
   "metadata": {},
   "outputs": [],
   "source": [
    "import matplotlib.pyplot as plt\n",
    "import tensorflow as tf\n",
    "import numpy as np\n",
    "import Fonctions_BDD_Signaux_Artificiels as BDD\n",
    "from sklearn.preprocessing import OneHotEncoder\n",
    "from sklearn.utils import shuffle\n",
    "import seaborn as sns"
   ]
  },
  {
   "cell_type": "code",
   "execution_count": 2,
   "metadata": {},
   "outputs": [
    {
     "name": "stdout",
     "output_type": "stream",
     "text": [
      "Liste complète 228\n",
      "75% 171\n",
      "25% 57\n"
     ]
    }
   ],
   "source": [
    "liste_comp = BDD.BDD_type('A')\n",
    "\n",
    "liste_train = []\n",
    "liste_test = []\n",
    "\n",
    "for i in range(1,229):\n",
    "    if i % 4 == 0 :\n",
    "        liste_test.append(liste_comp[i-1])\n",
    "    else :\n",
    "        liste_train.append(liste_comp[i-1])\n",
    "\n",
    "print(\"Liste complète\", len(liste_comp))\n",
    "print(\"75%\", len(liste_train))\n",
    "print(\"25%\", len(liste_test))"
   ]
  },
  {
   "cell_type": "markdown",
   "metadata": {},
   "source": [
    "### Définition des labels"
   ]
  },
  {
   "cell_type": "code",
   "execution_count": 3,
   "metadata": {},
   "outputs": [
    {
     "name": "stdout",
     "output_type": "stream",
     "text": [
      "171\n",
      "57\n"
     ]
    }
   ],
   "source": [
    "target_train = []\n",
    "target_test = []\n",
    "\n",
    "for i in range(0,43):\n",
    "    target_train.append('Gendarmerie')\n",
    "for i in range(43,86):\n",
    "    target_train.append('Police')    \n",
    "for i in range(86,129):\n",
    "    target_train.append('Pompiers')\n",
    "for i in range(129,171):\n",
    "    target_train.append('Samu')\n",
    "\n",
    "for i in range(0,14):\n",
    "    target_test.append('Gendarmerie')\n",
    "for i in range(14,28):\n",
    "    target_test.append('Police')\n",
    "for i in range(28,42):\n",
    "    target_test.append('Pompiers')\n",
    "for i in range(42,57):\n",
    "    target_test.append('Samu')\n",
    "\n",
    "print(len(target_train))\n",
    "print(len(target_test))"
   ]
  },
  {
   "cell_type": "markdown",
   "metadata": {},
   "source": [
    "### Mélange de la BDD"
   ]
  },
  {
   "cell_type": "code",
   "execution_count": 4,
   "metadata": {},
   "outputs": [],
   "source": [
    "liste_test_s, target_test_s = shuffle(liste_test, target_test)\n",
    "liste_train_s, target_train_s = shuffle(liste_train, target_train)"
   ]
  },
  {
   "cell_type": "markdown",
   "metadata": {},
   "source": [
    "### Définition de image_train et image_test"
   ]
  },
  {
   "cell_type": "code",
   "execution_count": 5,
   "metadata": {},
   "outputs": [
    {
     "name": "stdout",
     "output_type": "stream",
     "text": [
      "(171, 41, 27)\n",
      "(57, 41, 27)\n"
     ]
    }
   ],
   "source": [
    "image_train = BDD.return_image(liste_train_s, 'C:/Users/abras/OneDrive - etu.sorbonne-universite.fr/M1/Projet/Projet_final/Sirenes artificielles')\n",
    "image_test = BDD.return_image(liste_test_s, 'C:/Users/abras/OneDrive - etu.sorbonne-universite.fr/M1/Projet/Projet_final/Sirenes artificielles')\n",
    "\n",
    "print(image_train.shape)\n",
    "print(image_test.shape)"
   ]
  },
  {
   "cell_type": "markdown",
   "metadata": {},
   "source": [
    "### Encodage des label_train et label_test"
   ]
  },
  {
   "cell_type": "code",
   "execution_count": 6,
   "metadata": {},
   "outputs": [],
   "source": [
    "encodage = {\"Gendarmerie\":0, \"Police\":1, \"Pompiers\":2, \"Samu\":3}\n",
    "sirenes_labels_numeriques_train = []\n",
    "for label in target_train_s :\n",
    "    sirenes_labels_numeriques_train.append(encodage[label])\n",
    "\n",
    "sirenes_labels_numeriques_test = []\n",
    "for label in target_test_s :\n",
    "    sirenes_labels_numeriques_test.append(encodage[label])"
   ]
  },
  {
   "cell_type": "code",
   "execution_count": 7,
   "metadata": {},
   "outputs": [
    {
     "name": "stdout",
     "output_type": "stream",
     "text": [
      "(171, 4)\n",
      "(57, 4)\n"
     ]
    }
   ],
   "source": [
    "labels_train_onehot = tf.keras.utils.to_categorical(sirenes_labels_numeriques_train)\n",
    "labels_test_onehot = tf.keras.utils.to_categorical(sirenes_labels_numeriques_test)\n",
    "\n",
    "print(labels_train_onehot.shape)\n",
    "print(labels_test_onehot.shape)"
   ]
  },
  {
   "cell_type": "markdown",
   "metadata": {},
   "source": [
    "### IA test"
   ]
  },
  {
   "cell_type": "code",
   "execution_count": 8,
   "metadata": {},
   "outputs": [],
   "source": [
    "# On convertit nos valeurs en float\n",
    "\n",
    "image_train = image_train.astype(float)\n",
    "image_test = image_test.astype(float)\n",
    "\n",
    "# On normalise les pixels pour avoir des valeurs entre 0 et 1\n",
    "\n",
    "image_train = image_train/255\n",
    "image_test = image_test/255"
   ]
  },
  {
   "cell_type": "code",
   "execution_count": 51,
   "metadata": {},
   "outputs": [],
   "source": [
    "model = tf.keras.models.Sequential()"
   ]
  },
  {
   "cell_type": "code",
   "execution_count": 52,
   "metadata": {},
   "outputs": [],
   "source": [
    "model.add(tf.keras.layers.Flatten(input_shape=[41,27]))"
   ]
  },
  {
   "cell_type": "code",
   "execution_count": 53,
   "metadata": {},
   "outputs": [],
   "source": [
    "model.add(tf.keras.layers.Dense(400, activation=\"relu\"))\n",
    "model.add(tf.keras.layers.Dense(200, activation=\"relu\"))\n",
    "model.add(tf.keras.layers.Dense(4, activation=\"softmax\"))"
   ]
  },
  {
   "cell_type": "code",
   "execution_count": 54,
   "metadata": {},
   "outputs": [
    {
     "name": "stdout",
     "output_type": "stream",
     "text": [
      "Model: \"sequential_4\"\n",
      "_________________________________________________________________\n",
      "Layer (type)                 Output Shape              Param #   \n",
      "=================================================================\n",
      "flatten_4 (Flatten)          (None, 1107)              0         \n",
      "_________________________________________________________________\n",
      "dense_12 (Dense)             (None, 400)               443200    \n",
      "_________________________________________________________________\n",
      "dense_13 (Dense)             (None, 200)               80200     \n",
      "_________________________________________________________________\n",
      "dense_14 (Dense)             (None, 4)                 804       \n",
      "=================================================================\n",
      "Total params: 524,204\n",
      "Trainable params: 524,204\n",
      "Non-trainable params: 0\n",
      "_________________________________________________________________\n"
     ]
    }
   ],
   "source": [
    "model.summary()"
   ]
  },
  {
   "cell_type": "code",
   "execution_count": 55,
   "metadata": {},
   "outputs": [],
   "source": [
    "model.compile(\n",
    "    loss=\"categorical_crossentropy\",\n",
    "    optimizer=\"adam\",\n",
    "    metrics=[\"accuracy\"]\n",
    ")"
   ]
  },
  {
   "cell_type": "code",
   "execution_count": 56,
   "metadata": {},
   "outputs": [
    {
     "name": "stdout",
     "output_type": "stream",
     "text": [
      "Epoch 1/10\n",
      "5/5 [==============================] - 0s 44ms/step - loss: 60.0779 - accuracy: 0.3055 - val_loss: 41.2967 - val_accuracy: 0.2778\n",
      "Epoch 2/10\n",
      "5/5 [==============================] - 0s 17ms/step - loss: 19.2182 - accuracy: 0.5858 - val_loss: 26.0775 - val_accuracy: 0.4444\n",
      "Epoch 3/10\n",
      "5/5 [==============================] - 0s 20ms/step - loss: 5.8070 - accuracy: 0.8248 - val_loss: 10.4430 - val_accuracy: 0.6667\n",
      "Epoch 4/10\n",
      "5/5 [==============================] - 0s 18ms/step - loss: 3.5141 - accuracy: 0.8544 - val_loss: 10.0804 - val_accuracy: 0.5000\n",
      "Epoch 5/10\n",
      "5/5 [==============================] - 0s 16ms/step - loss: 0.4166 - accuracy: 0.9587 - val_loss: 10.2880 - val_accuracy: 0.5000\n",
      "Epoch 6/10\n",
      "5/5 [==============================] - 0s 20ms/step - loss: 0.1876 - accuracy: 0.9674 - val_loss: 5.9291 - val_accuracy: 0.6667\n",
      "Epoch 7/10\n",
      "5/5 [==============================] - 0s 17ms/step - loss: 0.0015 - accuracy: 1.0000 - val_loss: 5.1222 - val_accuracy: 0.6667\n",
      "Epoch 8/10\n",
      "5/5 [==============================] - 0s 17ms/step - loss: 0.0069 - accuracy: 0.9965 - val_loss: 5.1627 - val_accuracy: 0.6667\n",
      "Epoch 9/10\n",
      "5/5 [==============================] - 0s 17ms/step - loss: 6.8914e-05 - accuracy: 1.0000 - val_loss: 5.1150 - val_accuracy: 0.6667\n",
      "Epoch 10/10\n",
      "5/5 [==============================] - 0s 21ms/step - loss: 0.0016 - accuracy: 1.0000 - val_loss: 5.0554 - val_accuracy: 0.6111\n"
     ]
    }
   ],
   "source": [
    "history = model.fit(image_train,\n",
    "                    labels_train_onehot,\n",
    "                    epochs=10,\n",
    "                    validation_split=0.1)"
   ]
  },
  {
   "cell_type": "code",
   "execution_count": 57,
   "metadata": {},
   "outputs": [
    {
     "data": {
      "image/png": "[encoded data removed]",
      "text/plain": [
       "<Figure size 432x288 with 1 Axes>"
      ]
     },
     "metadata": {
      "needs_background": "light"
     },
     "output_type": "display_data"
    },
    {
     "data": {
      "image/png": "[encoded data removed]",
      "text/plain": [
       "<Figure size 432x288 with 1 Axes>"
      ]
     },
     "metadata": {
      "needs_background": "light"
     },
     "output_type": "display_data"
    }
   ],
   "source": [
    "loss_curve = history.history[\"loss\"]\n",
    "acc_curve = history.history[\"accuracy\"]\n",
    "\n",
    "loss_val_curve = history.history[\"val_loss\"]\n",
    "acc_val_curve = history.history[\"val_accuracy\"]\n",
    "\n",
    "plt.figure()\n",
    "plt.plot(loss_curve, label=\"Train\")\n",
    "plt.plot(loss_val_curve, label=\"Val\")\n",
    "plt.legend(loc='upper left')\n",
    "plt.title(\"Loss\")\n",
    "plt.show()\n",
    "\n",
    "plt.figure()\n",
    "plt.plot(acc_curve, label=\"Train\")\n",
    "plt.plot(acc_val_curve, label=\"Val\")\n",
    "plt.legend(loc='upper left')\n",
    "plt.title(\"Accuracy\")\n",
    "plt.show()"
   ]
  },
  {
   "cell_type": "code",
   "execution_count": 58,
   "metadata": {},
   "outputs": [
    {
     "name": "stdout",
     "output_type": "stream",
     "text": [
      "2/2 [==============================] - 0s 3ms/step - loss: 3.4130 - accuracy: 0.8421\n",
      "Test Loss 3.412986993789673\n",
      "Test Accuracy 0.8421052694320679\n"
     ]
    }
   ],
   "source": [
    "loss, acc = model.evaluate(image_test, labels_test_onehot)\n",
    "print(\"Test Loss\", loss)\n",
    "print(\"Test Accuracy\", acc)"
   ]
  },
  {
   "cell_type": "markdown",
   "metadata": {},
   "source": [
    "### Matrice de confusion"
   ]
  },
  {
   "cell_type": "code",
   "execution_count": 74,
   "metadata": {},
   "outputs": [
    {
     "data": {
      "image/png": "[encoded data removed]",
      "text/plain": [
       "<Figure size 720x576 with 2 Axes>"
      ]
     },
     "metadata": {
      "needs_background": "light"
     },
     "output_type": "display_data"
    }
   ],
   "source": [
    "y_pred = np.argmax(model.predict(image_test), axis=1)\n",
    "\n",
    "yy = []\n",
    "for i in range(0,len(target_test_s)):\n",
    "    if target_test_s[i] == 'Gendarmerie':\n",
    "        yy.append(0)\n",
    "    if target_test_s[i] == 'Police':\n",
    "        yy.append(1)\n",
    "    if target_test_s[i] == 'Pompiers':\n",
    "        yy.append(2)\n",
    "    if target_test_s[i] == 'Samu':\n",
    "        yy.append(3)\n",
    "\n",
    "commands = []\n",
    "commands.append('Gendarmerie')\n",
    "commands.append('Police')\n",
    "commands.append('Pompiers')\n",
    "commands.append('Samu')\n",
    "\n",
    "y_true = yy\n",
    "\n",
    "confusion_mtx = tf.math.confusion_matrix(y_true, y_pred) \n",
    "plt.figure(figsize=(10, 8))\n",
    "sns.heatmap(confusion_mtx, xticklabels=commands, yticklabels=commands, \n",
    "            annot=True, fmt='g')\n",
    "plt.xlabel('Prediction')\n",
    "plt.ylabel('Label')\n",
    "plt.show()"
   ]
  }
 ],
 "metadata": {
  "kernelspec": {
   "display_name": "Python 3",
   "language": "python",
   "name": "python3"
  },
  "language_info": {
   "codemirror_mode": {
    "name": "ipython",
    "version": 3
   },
   "file_extension": ".py",
   "mimetype": "text/x-python",
   "name": "python",
   "nbconvert_exporter": "python",
   "pygments_lexer": "ipython3",
   "version": "3.7.4"
  }
 },
 "nbformat": 4,
 "nbformat_minor": 4
}
