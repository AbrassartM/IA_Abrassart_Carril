{
 "cells": [
  {
   "cell_type": "markdown",
   "metadata": {},
   "source": [
    "# IA - Modèle MLP - BDD signaux acceptables"
   ]
  },
  {
   "cell_type": "code",
   "execution_count": 1,
   "metadata": {},
   "outputs": [],
   "source": [
    "import matplotlib.pyplot as plt\n",
    "import tensorflow as tf\n",
    "import numpy as np\n",
    "import Fonctions_BDD_Signaux_Artificiels as BDD\n",
    "from sklearn.preprocessing import OneHotEncoder\n",
    "from sklearn.utils import shuffle"
   ]
  },
  {
   "cell_type": "code",
   "execution_count": 2,
   "metadata": {},
   "outputs": [
    {
     "name": "stdout",
     "output_type": "stream",
     "text": [
      "Liste complète 228\n",
      "75% 171\n",
      "25% 57\n"
     ]
    }
   ],
   "source": [
    "liste_comp = BDD.BDD_type('A')\n",
    "\n",
    "liste_train = []\n",
    "liste_test = []\n",
    "\n",
    "for i in range(1,229):\n",
    "    if i % 4 == 0 :\n",
    "        liste_test.append(liste_comp[i-1])\n",
    "    else :\n",
    "        liste_train.append(liste_comp[i-1])\n",
    "\n",
    "print(\"Liste complète\", len(liste_comp))\n",
    "print(\"75%\", len(liste_train))\n",
    "print(\"25%\", len(liste_test))"
   ]
  },
  {
   "cell_type": "markdown",
   "metadata": {},
   "source": [
    "### Définition des labels"
   ]
  },
  {
   "cell_type": "code",
   "execution_count": 3,
   "metadata": {},
   "outputs": [
    {
     "name": "stdout",
     "output_type": "stream",
     "text": [
      "171\n",
      "57\n"
     ]
    }
   ],
   "source": [
    "target_train = []\n",
    "target_test = []\n",
    "\n",
    "for i in range(0,43):\n",
    "    target_train.append('Gendarmerie')\n",
    "for i in range(43,86):\n",
    "    target_train.append('Police')    \n",
    "for i in range(86,129):\n",
    "    target_train.append('Pompiers')\n",
    "for i in range(129,171):\n",
    "    target_train.append('Samu')\n",
    "\n",
    "for i in range(0,14):\n",
    "    target_test.append('Gendarmerie')\n",
    "for i in range(14,28):\n",
    "    target_test.append('Police')\n",
    "for i in range(28,42):\n",
    "    target_test.append('Pompiers')\n",
    "for i in range(42,57):\n",
    "    target_test.append('Samu')\n",
    "\n",
    "print(len(target_train))\n",
    "print(len(target_test))"
   ]
  },
  {
   "cell_type": "markdown",
   "metadata": {},
   "source": [
    "### Mélange de la BDD"
   ]
  },
  {
   "cell_type": "code",
   "execution_count": 4,
   "metadata": {},
   "outputs": [],
   "source": [
    "liste_test_s, target_test_s = shuffle(liste_test, target_test)\n",
    "liste_train_s, target_train_s = shuffle(liste_train, target_train)"
   ]
  },
  {
   "cell_type": "markdown",
   "metadata": {},
   "source": [
    "### Définition de image_train et image_test"
   ]
  },
  {
   "cell_type": "code",
   "execution_count": 18,
   "metadata": {},
   "outputs": [
    {
     "name": "stdout",
     "output_type": "stream",
     "text": [
      "(171, 41, 27)\n",
      "(57, 41, 27)\n"
     ]
    }
   ],
   "source": [
    "image_train = BDD.return_image(liste_train_s, 'C:/Users/abras/OneDrive - etu.sorbonne-universite.fr/M1/Projet/Projet_final/Sirenes artificielles')\n",
    "image_test = BDD.return_image(liste_test_s, 'C:/Users/abras/OneDrive - etu.sorbonne-universite.fr/M1/Projet/Projet_final/Sirenes artificielles')\n",
    "\n",
    "print(image_train.shape)\n",
    "print(image_test.shape)"
   ]
  },
  {
   "cell_type": "markdown",
   "metadata": {},
   "source": [
    "### Encodage des label_train et label_test"
   ]
  },
  {
   "cell_type": "code",
   "execution_count": 7,
   "metadata": {},
   "outputs": [],
   "source": [
    "encodage = {\"Gendarmerie\":0, \"Police\":1, \"Pompiers\":2, \"Samu\":3}\n",
    "sirenes_labels_numeriques_train = []\n",
    "for label in target_train_s :\n",
    "    sirenes_labels_numeriques_train.append(encodage[label])\n",
    "\n",
    "sirenes_labels_numeriques_test = []\n",
    "for label in target_test_s :\n",
    "    sirenes_labels_numeriques_test.append(encodage[label])"
   ]
  },
  {
   "cell_type": "code",
   "execution_count": 8,
   "metadata": {},
   "outputs": [
    {
     "name": "stdout",
     "output_type": "stream",
     "text": [
      "(171, 4)\n",
      "(57, 4)\n"
     ]
    }
   ],
   "source": [
    "labels_train_onehot = tf.keras.utils.to_categorical(sirenes_labels_numeriques_train)\n",
    "labels_test_onehot = tf.keras.utils.to_categorical(sirenes_labels_numeriques_test)\n",
    "\n",
    "print(labels_train_onehot.shape)\n",
    "print(labels_test_onehot.shape)"
   ]
  },
  {
   "cell_type": "markdown",
   "metadata": {},
   "source": [
    "### IA test"
   ]
  },
  {
   "cell_type": "code",
   "execution_count": 9,
   "metadata": {},
   "outputs": [],
   "source": [
    "# On convertit nos valeurs en float\n",
    "\n",
    "image_train = image_train.astype(float)\n",
    "image_test = image_test.astype(float)\n",
    "\n",
    "# On normalise les pixels pour avoir des valeurs entre 0 et 1\n",
    "\n",
    "image_train = image_train/255\n",
    "image_test = image_test/255"
   ]
  },
  {
   "cell_type": "code",
   "execution_count": 10,
   "metadata": {},
   "outputs": [],
   "source": [
    "model = tf.keras.models.Sequential()"
   ]
  },
  {
   "cell_type": "code",
   "execution_count": 11,
   "metadata": {},
   "outputs": [],
   "source": [
    "model.add(tf.keras.layers.Flatten(input_shape=[41,27]))"
   ]
  },
  {
   "cell_type": "code",
   "execution_count": 12,
   "metadata": {},
   "outputs": [],
   "source": [
    "model.add(tf.keras.layers.Dense(400, activation=\"relu\"))\n",
    "model.add(tf.keras.layers.Dense(200, activation=\"relu\"))\n",
    "model.add(tf.keras.layers.Dense(4, activation=\"softmax\"))"
   ]
  },
  {
   "cell_type": "code",
   "execution_count": 13,
   "metadata": {},
   "outputs": [
    {
     "name": "stdout",
     "output_type": "stream",
     "text": [
      "Model: \"sequential\"\n",
      "_________________________________________________________________\n",
      "Layer (type)                 Output Shape              Param #   \n",
      "=================================================================\n",
      "flatten (Flatten)            (None, 1107)              0         \n",
      "_________________________________________________________________\n",
      "dense (Dense)                (None, 400)               443200    \n",
      "_________________________________________________________________\n",
      "dense_1 (Dense)              (None, 200)               80200     \n",
      "_________________________________________________________________\n",
      "dense_2 (Dense)              (None, 4)                 804       \n",
      "=================================================================\n",
      "Total params: 524,204\n",
      "Trainable params: 524,204\n",
      "Non-trainable params: 0\n",
      "_________________________________________________________________\n"
     ]
    }
   ],
   "source": [
    "model.summary()"
   ]
  },
  {
   "cell_type": "code",
   "execution_count": 14,
   "metadata": {},
   "outputs": [],
   "source": [
    "model.compile(\n",
    "    loss=\"categorical_crossentropy\",\n",
    "    optimizer=\"adam\",\n",
    "    metrics=[\"accuracy\"]\n",
    ")"
   ]
  },
  {
   "cell_type": "code",
   "execution_count": 15,
   "metadata": {},
   "outputs": [
    {
     "name": "stdout",
     "output_type": "stream",
     "text": [
      "Epoch 1/10\n",
      "5/5 [==============================] - 2s 265ms/step - loss: 92.4155 - accuracy: 0.2673 - val_loss: 22.4070 - val_accuracy: 0.4444\n",
      "Epoch 2/10\n",
      "5/5 [==============================] - 0s 44ms/step - loss: 21.8910 - accuracy: 0.5984 - val_loss: 30.8169 - val_accuracy: 0.2222\n",
      "Epoch 3/10\n",
      "5/5 [==============================] - 0s 43ms/step - loss: 11.6353 - accuracy: 0.5729 - val_loss: 6.7648 - val_accuracy: 0.6667\n",
      "Epoch 4/10\n",
      "5/5 [==============================] - 0s 42ms/step - loss: 4.3624 - accuracy: 0.7115 - val_loss: 5.1903 - val_accuracy: 0.6667\n",
      "Epoch 5/10\n",
      "5/5 [==============================] - 0s 43ms/step - loss: 0.6476 - accuracy: 0.9392 - val_loss: 2.7219 - val_accuracy: 0.7778\n",
      "Epoch 6/10\n",
      "5/5 [==============================] - 0s 41ms/step - loss: 0.1731 - accuracy: 0.9539 - val_loss: 3.9871 - val_accuracy: 0.7222\n",
      "Epoch 7/10\n",
      "5/5 [==============================] - 0s 48ms/step - loss: 0.0261 - accuracy: 0.9870 - val_loss: 3.4291 - val_accuracy: 0.6111\n",
      "Epoch 8/10\n",
      "5/5 [==============================] - 0s 49ms/step - loss: 5.1576e-05 - accuracy: 1.0000 - val_loss: 4.0136 - val_accuracy: 0.6111\n",
      "Epoch 9/10\n",
      "5/5 [==============================] - 0s 49ms/step - loss: 1.5903e-04 - accuracy: 1.0000 - val_loss: 4.7512 - val_accuracy: 0.6111\n",
      "Epoch 10/10\n",
      "5/5 [==============================] - 0s 44ms/step - loss: 9.5353e-05 - accuracy: 1.0000 - val_loss: 5.2753 - val_accuracy: 0.6111\n"
     ]
    }
   ],
   "source": [
    "history = model.fit(image_train,\n",
    "                    labels_train_onehot,\n",
    "                    epochs=10,\n",
    "                    validation_split=0.1)"
   ]
  },
  {
   "cell_type": "code",
   "execution_count": 16,
   "metadata": {},
   "outputs": [
    {
     "data": {
      "application/vnd.jupyter.widget-view+json": {
       "model_id": "a068ea522f2f4897af617fc0622159de",
       "version_major": 2,
       "version_minor": 0
      },
      "text/plain": [
       "Canvas(toolbar=Toolbar(toolitems=[('Home', 'Reset original view', 'home', 'home'), ('Back', 'Back to previous …"
      ]
     },
     "metadata": {},
     "output_type": "display_data"
    },
    {
     "data": {
      "application/vnd.jupyter.widget-view+json": {
       "model_id": "b83ee6148849494f995d52070639e063",
       "version_major": 2,
       "version_minor": 0
      },
      "text/plain": [
       "Canvas(toolbar=Toolbar(toolitems=[('Home', 'Reset original view', 'home', 'home'), ('Back', 'Back to previous …"
      ]
     },
     "metadata": {},
     "output_type": "display_data"
    }
   ],
   "source": [
    "loss_curve = history.history[\"loss\"]\n",
    "acc_curve = history.history[\"accuracy\"]\n",
    "\n",
    "loss_val_curve = history.history[\"val_loss\"]\n",
    "acc_val_curve = history.history[\"val_accuracy\"]\n",
    "\n",
    "plt.figure()\n",
    "plt.plot(loss_curve, label=\"Train\")\n",
    "plt.plot(loss_val_curve, label=\"Val\")\n",
    "plt.legend(loc='upper left')\n",
    "plt.title(\"Loss\")\n",
    "plt.show()\n",
    "\n",
    "plt.figure()\n",
    "plt.plot(acc_curve, label=\"Train\")\n",
    "plt.plot(acc_val_curve, label=\"Val\")\n",
    "plt.legend(loc='upper left')\n",
    "plt.title(\"Accuracy\")\n",
    "plt.show()"
   ]
  },
  {
   "cell_type": "code",
   "execution_count": 17,
   "metadata": {},
   "outputs": [
    {
     "name": "stdout",
     "output_type": "stream",
     "text": [
      "2/2 [==============================] - 0s 7ms/step - loss: 2.9623 - accuracy: 0.8596\n",
      "Test Loss 2.9623196125030518\n",
      "Test Accuracy 0.859649121761322\n"
     ]
    }
   ],
   "source": [
    "loss, acc = model.evaluate(image_test, labels_test_onehot)\n",
    "print(\"Test Loss\", loss)\n",
    "print(\"Test Accuracy\", acc)"
   ]
  }
 ],
 "metadata": {
  "kernelspec": {
   "display_name": "Python 3",
   "language": "python",
   "name": "python3"
  },
  "language_info": {
   "codemirror_mode": {
    "name": "ipython",
    "version": 3
   },
   "file_extension": ".py",
   "mimetype": "text/x-python",
   "name": "python",
   "nbconvert_exporter": "python",
   "pygments_lexer": "ipython3",
   "version": "3.7.4"
  }
 },
 "nbformat": 4,
 "nbformat_minor": 4
}
