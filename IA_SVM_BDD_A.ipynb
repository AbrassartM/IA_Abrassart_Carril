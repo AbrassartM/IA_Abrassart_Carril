{
 "cells": [
  {
   "cell_type": "markdown",
   "metadata": {},
   "source": [
    "# IA - Modèle SVM - BDD signaux acceptables"
   ]
  },
  {
   "cell_type": "code",
   "execution_count": 62,
   "metadata": {},
   "outputs": [],
   "source": [
    "import Fonctions_BDD_Signaux_Artificiels as BDD\n",
    "from sklearn.utils import shuffle\n",
    "from sklearn import svm\n",
    "from sklearn.model_selection import train_test_split\n",
    "from sklearn import metrics\n",
    "import numpy as np\n",
    "import seaborn as sns\n",
    "import tensorflow as tf\n",
    "import matplotlib.pyplot as plt"
   ]
  },
  {
   "cell_type": "markdown",
   "metadata": {},
   "source": [
    "### Définition de la BDD"
   ]
  },
  {
   "cell_type": "code",
   "execution_count": 77,
   "metadata": {},
   "outputs": [
    {
     "name": "stdout",
     "output_type": "stream",
     "text": [
      "Liste complète 228\n",
      "75% 171\n",
      "25% 57\n"
     ]
    }
   ],
   "source": [
    "liste_comp = BDD.BDD_type('A')\n",
    "\n",
    "liste_train = []\n",
    "liste_test = []\n",
    "\n",
    "for i in range(1,229):\n",
    "    if i % 4 == 0 :\n",
    "        liste_test.append(liste_comp[i-1])\n",
    "    else :\n",
    "        liste_train.append(liste_comp[i-1])\n",
    "\n",
    "print(\"Liste complète\", len(liste_comp))\n",
    "print(\"75%\", len(liste_train))\n",
    "print(\"25%\", len(liste_test))"
   ]
  },
  {
   "cell_type": "markdown",
   "metadata": {},
   "source": [
    "### Définition des labels"
   ]
  },
  {
   "cell_type": "code",
   "execution_count": 64,
   "metadata": {},
   "outputs": [
    {
     "name": "stdout",
     "output_type": "stream",
     "text": [
      "171\n",
      "57\n"
     ]
    }
   ],
   "source": [
    "target_train = []\n",
    "target_test = []\n",
    "\n",
    "for i in range(0,43):\n",
    "    target_train.append(0)\n",
    "for i in range(43,86):\n",
    "    target_train.append(1)    \n",
    "for i in range(86,129):\n",
    "    target_train.append(2)\n",
    "for i in range(129,171):\n",
    "    target_train.append(3)\n",
    "\n",
    "for i in range(0,14):\n",
    "    target_test.append(0)\n",
    "for i in range(14,28):\n",
    "    target_test.append(1)\n",
    "for i in range(28,42):\n",
    "    target_test.append(2)\n",
    "for i in range(42,57):\n",
    "    target_test.append(3)\n",
    "\n",
    "print(len(target_train))\n",
    "print(len(target_test))"
   ]
  },
  {
   "cell_type": "markdown",
   "metadata": {},
   "source": [
    "### Mélange de la BDD"
   ]
  },
  {
   "cell_type": "code",
   "execution_count": 65,
   "metadata": {},
   "outputs": [],
   "source": [
    "liste_test_s, target_test_s = shuffle(liste_test, target_test)\n",
    "liste_train_s, target_train_s = shuffle(liste_train, target_train)"
   ]
  },
  {
   "cell_type": "markdown",
   "metadata": {},
   "source": [
    "### Définition de image"
   ]
  },
  {
   "cell_type": "code",
   "execution_count": 66,
   "metadata": {},
   "outputs": [
    {
     "name": "stdout",
     "output_type": "stream",
     "text": [
      "(171, 41, 27)\n",
      "(57, 41, 27)\n"
     ]
    }
   ],
   "source": [
    "image_train = BDD.return_image(liste_train_s, 'C:/Users/abras/OneDrive - etu.sorbonne-universite.fr/M1/Projet/Projet_final/Sirenes artificielles')\n",
    "image_test = BDD.return_image(liste_test_s, 'C:/Users/abras/OneDrive - etu.sorbonne-universite.fr/M1/Projet/Projet_final/Sirenes artificielles')\n",
    "\n",
    "print(image_train.shape)\n",
    "print(image_test.shape)"
   ]
  },
  {
   "cell_type": "code",
   "execution_count": 68,
   "metadata": {},
   "outputs": [],
   "source": [
    "# On convertit nos valeurs en float\n",
    "\n",
    "image_train = image_train.astype(float)\n",
    "image_test = image_test.astype(float)\n",
    "\n",
    "# On normalise les pixels pour avoir des valeurs entre 0 et 1\n",
    "\n",
    "image_train = image_train/255\n",
    "image_test = image_test/255"
   ]
  },
  {
   "cell_type": "markdown",
   "metadata": {},
   "source": [
    "### Séparation des données"
   ]
  },
  {
   "cell_type": "code",
   "execution_count": 70,
   "metadata": {
    "scrolled": true
   },
   "outputs": [],
   "source": [
    "# X_train, X_test, y_train, y_test = train_test_split(image, target_s, test_size=0.1)\n",
    "\n",
    "nsamples, nx, ny = image_train.shape\n",
    "d2_train_dataset = image_train.reshape((nsamples,nx*ny))\n",
    "\n",
    "nsamples, nx, ny = image_test.shape\n",
    "d2_train_dataset_test = image_test.reshape((nsamples,nx*ny))\n",
    "\n",
    "nsamples, nx, ny = image.shape\n",
    "image_t = image.reshape((nsamples,nx*ny))"
   ]
  },
  {
   "cell_type": "code",
   "execution_count": 71,
   "metadata": {},
   "outputs": [],
   "source": [
    "clf = svm.SVC(kernel='linear')\n",
    "clf.fit(d2_train_dataset, target_train_s)\n",
    "y_pred = clf.predict(d2_train_dataset_test)"
   ]
  },
  {
   "cell_type": "code",
   "execution_count": 72,
   "metadata": {},
   "outputs": [
    {
     "name": "stdout",
     "output_type": "stream",
     "text": [
      "Accuracy: 0.9122807017543859\n"
     ]
    }
   ],
   "source": [
    "print(\"Accuracy:\",metrics.accuracy_score(target_test_s, y_pred))"
   ]
  },
  {
   "cell_type": "code",
   "execution_count": 75,
   "metadata": {
    "scrolled": false
   },
   "outputs": [
    {
     "data": {
      "image/png": "[encoded data removed]",
      "text/plain": [
       "<Figure size 720x576 with 2 Axes>"
      ]
     },
     "metadata": {
      "needs_background": "light"
     },
     "output_type": "display_data"
    }
   ],
   "source": [
    "y_true = target_test_s\n",
    "\n",
    "commands = []\n",
    "commands.append('Gendarmerie')\n",
    "commands.append('Police')\n",
    "commands.append('Pompiers')\n",
    "commands.append('Samu')\n",
    "\n",
    "confusion_mtx = tf.math.confusion_matrix(y_true, y_pred) \n",
    "plt.figure(figsize=(10, 8))\n",
    "sns.heatmap(confusion_mtx, xticklabels=commands, yticklabels=commands, \n",
    "            annot=True, fmt='g')\n",
    "plt.xlabel('Prediction')\n",
    "plt.ylabel('Label')\n",
    "plt.show()"
   ]
  }
 ],
 "metadata": {
  "kernelspec": {
   "display_name": "Python 3",
   "language": "python",
   "name": "python3"
  },
  "language_info": {
   "codemirror_mode": {
    "name": "ipython",
    "version": 3
   },
   "file_extension": ".py",
   "mimetype": "text/x-python",
   "name": "python",
   "nbconvert_exporter": "python",
   "pygments_lexer": "ipython3",
   "version": "3.7.4"
  }
 },
 "nbformat": 4,
 "nbformat_minor": 4
}
