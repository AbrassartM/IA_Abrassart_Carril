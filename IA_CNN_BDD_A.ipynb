{
 "cells": [
  {
   "cell_type": "markdown",
   "metadata": {},
   "source": [
    "# Essais IA - BDD signaux acceptables"
   ]
  },
  {
   "cell_type": "code",
   "execution_count": 1,
   "metadata": {},
   "outputs": [],
   "source": [
    "import matplotlib.pyplot as plt\n",
    "import tensorflow as tf\n",
    "import numpy as np\n",
    "import Fonctions_BDD_Signaux_Artificiels as BDD\n",
    "from sklearn.preprocessing import OneHotEncoder\n",
    "from sklearn.utils import shuffle\n",
    "from tensorflow.keras import datasets, layers, models\n",
    "import seaborn as sns"
   ]
  },
  {
   "cell_type": "code",
   "execution_count": 2,
   "metadata": {},
   "outputs": [
    {
     "name": "stdout",
     "output_type": "stream",
     "text": [
      "Liste complète 228\n",
      "75% 171\n",
      "25% 57\n"
     ]
    }
   ],
   "source": [
    "liste_comp = BDD.BDD_type('A')\n",
    "\n",
    "liste_train = []\n",
    "liste_test = []\n",
    "\n",
    "for i in range(1,229):\n",
    "    if i % 4 == 0 :\n",
    "        liste_test.append(liste_comp[i-1])\n",
    "    else :\n",
    "        liste_train.append(liste_comp[i-1])\n",
    "\n",
    "print(\"Liste complète\", len(liste_comp))\n",
    "print(\"75%\", len(liste_train))\n",
    "print(\"25%\", len(liste_test))"
   ]
  },
  {
   "cell_type": "markdown",
   "metadata": {},
   "source": [
    "### Définition des labels"
   ]
  },
  {
   "cell_type": "code",
   "execution_count": 3,
   "metadata": {},
   "outputs": [
    {
     "name": "stdout",
     "output_type": "stream",
     "text": [
      "171\n",
      "57\n"
     ]
    }
   ],
   "source": [
    "target_train = []\n",
    "target_test = []\n",
    "\n",
    "for i in range(0,43):\n",
    "    target_train.append('Gendarmerie')\n",
    "for i in range(43,86):\n",
    "    target_train.append('Police')    \n",
    "for i in range(86,129):\n",
    "    target_train.append('Pompiers')\n",
    "for i in range(129,171):\n",
    "    target_train.append('Samu')\n",
    "\n",
    "for i in range(0,14):\n",
    "    target_test.append('Gendarmerie')\n",
    "for i in range(14,28):\n",
    "    target_test.append('Police')\n",
    "for i in range(28,42):\n",
    "    target_test.append('Pompiers')\n",
    "for i in range(42,57):\n",
    "    target_test.append('Samu')\n",
    "\n",
    "print(len(target_train))\n",
    "print(len(target_test))"
   ]
  },
  {
   "cell_type": "markdown",
   "metadata": {},
   "source": [
    "### Mélange de la BDD"
   ]
  },
  {
   "cell_type": "code",
   "execution_count": 4,
   "metadata": {},
   "outputs": [],
   "source": [
    "liste_test_s, target_test_s = shuffle(liste_test, target_test)\n",
    "liste_train_s, target_train_s = shuffle(liste_train, target_train)"
   ]
  },
  {
   "cell_type": "markdown",
   "metadata": {},
   "source": [
    "### Définition de image_train et image_test"
   ]
  },
  {
   "cell_type": "code",
   "execution_count": 8,
   "metadata": {},
   "outputs": [
    {
     "name": "stdout",
     "output_type": "stream",
     "text": [
      "(171, 41, 27, 1)\n",
      "(57, 41, 27, 1)\n"
     ]
    }
   ],
   "source": [
    "image_train = BDD.return_image(liste_train_s,'C:/Users/abras/OneDrive - etu.sorbonne-universite.fr/M1/Projet/Projet_final/Sirenes artificielles')\n",
    "image_test = BDD.return_image(liste_test_s, 'C:/Users/abras/OneDrive - etu.sorbonne-universite.fr/M1/Projet/Projet_final/Sirenes artificielles')\n",
    "image_train = image_train[...,None]#Etape nécessaire à la detection des couleurs par les couches conv2D\n",
    "image_test = image_test[...,None]#Same\n",
    "print(image_train.shape)\n",
    "print(image_test.shape)"
   ]
  },
  {
   "cell_type": "markdown",
   "metadata": {},
   "source": [
    "### Encodage des label_train et label_test"
   ]
  },
  {
   "cell_type": "code",
   "execution_count": 9,
   "metadata": {},
   "outputs": [],
   "source": [
    "encodage = {\"Gendarmerie\":0, \"Police\":1, \"Pompiers\":2, \"Samu\":3}\n",
    "sirenes_labels_numeriques_train = []\n",
    "for label in target_train_s :\n",
    "    sirenes_labels_numeriques_train.append(encodage[label])\n",
    "\n",
    "sirenes_labels_numeriques_test = []\n",
    "for label in target_test_s :\n",
    "    sirenes_labels_numeriques_test.append(encodage[label])"
   ]
  },
  {
   "cell_type": "code",
   "execution_count": 10,
   "metadata": {},
   "outputs": [
    {
     "name": "stdout",
     "output_type": "stream",
     "text": [
      "(171, 4)\n",
      "(57, 4)\n"
     ]
    }
   ],
   "source": [
    "labels_train_onehot = tf.keras.utils.to_categorical(sirenes_labels_numeriques_train)\n",
    "labels_test_onehot = tf.keras.utils.to_categorical(sirenes_labels_numeriques_test)\n",
    "\n",
    "print(labels_train_onehot.shape)\n",
    "print(labels_test_onehot.shape)"
   ]
  },
  {
   "cell_type": "markdown",
   "metadata": {},
   "source": [
    "### IA test"
   ]
  },
  {
   "cell_type": "code",
   "execution_count": 11,
   "metadata": {},
   "outputs": [],
   "source": [
    "# On convertit nos valeurs en float\n",
    "\n",
    "image_train = image_train.astype(float)\n",
    "image_test = image_test.astype(float)\n",
    "\n",
    "# On normalise les pixels pour avoir des valeurs entre 0 et 1\n",
    "\n",
    "image_train = image_train/255\n",
    "image_test = image_test/255"
   ]
  },
  {
   "cell_type": "code",
   "execution_count": 42,
   "metadata": {},
   "outputs": [],
   "source": [
    "model = tf.keras.models.Sequential()"
   ]
  },
  {
   "cell_type": "code",
   "execution_count": 43,
   "metadata": {},
   "outputs": [],
   "source": [
    "model.add(layers.Conv2D(64, (3, 3), activation='relu', input_shape=(41, 27, 1)))\n",
    "model.add(layers.MaxPooling2D((2, 2),strides=2))\n",
    "model.add(layers.Conv2D(128, (3,3), activation='relu'))\n",
    "model.add(layers.MaxPooling2D((2, 2),strides=2))\n",
    "model.add(layers.Conv2D(64, (3, 3), activation='relu'))"
   ]
  },
  {
   "cell_type": "code",
   "execution_count": 44,
   "metadata": {},
   "outputs": [],
   "source": [
    "model.add(tf.keras.layers.Flatten())"
   ]
  },
  {
   "cell_type": "code",
   "execution_count": 45,
   "metadata": {},
   "outputs": [],
   "source": [
    "model.add(tf.keras.layers.Dense(400, activation=\"relu\"))\n",
    "model.add(tf.keras.layers.Dense(200, activation=\"relu\"))\n",
    "model.add(tf.keras.layers.Dense(4,activation=\"softmax\"))"
   ]
  },
  {
   "cell_type": "code",
   "execution_count": 46,
   "metadata": {},
   "outputs": [
    {
     "name": "stdout",
     "output_type": "stream",
     "text": [
      "Model: \"sequential_3\"\n",
      "_________________________________________________________________\n",
      "Layer (type)                 Output Shape              Param #   \n",
      "=================================================================\n",
      "conv2d_9 (Conv2D)            (None, 39, 25, 64)        640       \n",
      "_________________________________________________________________\n",
      "max_pooling2d_6 (MaxPooling2 (None, 19, 12, 64)        0         \n",
      "_________________________________________________________________\n",
      "conv2d_10 (Conv2D)           (None, 17, 10, 128)       73856     \n",
      "_________________________________________________________________\n",
      "max_pooling2d_7 (MaxPooling2 (None, 8, 5, 128)         0         \n",
      "_________________________________________________________________\n",
      "conv2d_11 (Conv2D)           (None, 6, 3, 64)          73792     \n",
      "_________________________________________________________________\n",
      "flatten_3 (Flatten)          (None, 1152)              0         \n",
      "_________________________________________________________________\n",
      "dense_9 (Dense)              (None, 400)               461200    \n",
      "_________________________________________________________________\n",
      "dense_10 (Dense)             (None, 200)               80200     \n",
      "_________________________________________________________________\n",
      "dense_11 (Dense)             (None, 4)                 804       \n",
      "=================================================================\n",
      "Total params: 690,492\n",
      "Trainable params: 690,492\n",
      "Non-trainable params: 0\n",
      "_________________________________________________________________\n"
     ]
    }
   ],
   "source": [
    "model.summary()"
   ]
  },
  {
   "cell_type": "code",
   "execution_count": 47,
   "metadata": {},
   "outputs": [],
   "source": [
    "model.compile(\n",
    "    loss=\"categorical_crossentropy\",\n",
    "    optimizer=\"adam\",\n",
    "    metrics=[\"accuracy\"]\n",
    ")"
   ]
  },
  {
   "cell_type": "code",
   "execution_count": 48,
   "metadata": {},
   "outputs": [
    {
     "name": "stdout",
     "output_type": "stream",
     "text": [
      "Epoch 1/20\n",
      "5/5 [==============================] - 1s 70ms/step - loss: 9.3284 - accuracy: 0.2977 - val_loss: 3.2701 - val_accuracy: 0.2222\n",
      "Epoch 2/20\n",
      "5/5 [==============================] - 0s 52ms/step - loss: 2.1455 - accuracy: 0.2355 - val_loss: 1.5130 - val_accuracy: 0.0556\n",
      "Epoch 3/20\n",
      "5/5 [==============================] - 0s 53ms/step - loss: 1.3645 - accuracy: 0.3012 - val_loss: 1.4114 - val_accuracy: 0.2222\n",
      "Epoch 4/20\n",
      "5/5 [==============================] - 0s 55ms/step - loss: 1.3420 - accuracy: 0.4146 - val_loss: 1.3771 - val_accuracy: 0.2778\n",
      "Epoch 5/20\n",
      "5/5 [==============================] - 0s 49ms/step - loss: 1.3053 - accuracy: 0.4111 - val_loss: 1.5547 - val_accuracy: 0.2778\n",
      "Epoch 6/20\n",
      "5/5 [==============================] - 0s 54ms/step - loss: 1.1740 - accuracy: 0.4616 - val_loss: 1.3936 - val_accuracy: 0.3333\n",
      "Epoch 7/20\n",
      "5/5 [==============================] - 0s 51ms/step - loss: 1.0336 - accuracy: 0.6259 - val_loss: 1.4615 - val_accuracy: 0.3333\n",
      "Epoch 8/20\n",
      "5/5 [==============================] - 0s 52ms/step - loss: 0.8147 - accuracy: 0.7123 - val_loss: 1.2207 - val_accuracy: 0.4444\n",
      "Epoch 9/20\n",
      "5/5 [==============================] - 0s 44ms/step - loss: 0.6633 - accuracy: 0.7757 - val_loss: 0.8500 - val_accuracy: 0.6111\n",
      "Epoch 10/20\n",
      "5/5 [==============================] - 0s 60ms/step - loss: 0.6102 - accuracy: 0.7697 - val_loss: 0.9983 - val_accuracy: 0.6111\n",
      "Epoch 11/20\n",
      "5/5 [==============================] - 0s 50ms/step - loss: 0.4034 - accuracy: 0.8875 - val_loss: 1.1049 - val_accuracy: 0.5556\n",
      "Epoch 12/20\n",
      "5/5 [==============================] - 0s 52ms/step - loss: 0.2384 - accuracy: 0.9757 - val_loss: 0.8829 - val_accuracy: 0.6111\n",
      "Epoch 13/20\n",
      "5/5 [==============================] - 0s 51ms/step - loss: 0.2107 - accuracy: 0.9422 - val_loss: 1.3382 - val_accuracy: 0.5556\n",
      "Epoch 14/20\n",
      "5/5 [==============================] - 0s 48ms/step - loss: 0.2075 - accuracy: 0.9166 - val_loss: 0.6305 - val_accuracy: 0.7222\n",
      "Epoch 15/20\n",
      "5/5 [==============================] - 0s 50ms/step - loss: 0.1155 - accuracy: 0.9791 - val_loss: 0.5532 - val_accuracy: 0.8333\n",
      "Epoch 16/20\n",
      "5/5 [==============================] - 0s 55ms/step - loss: 0.0442 - accuracy: 0.9870 - val_loss: 0.8508 - val_accuracy: 0.7222\n",
      "Epoch 17/20\n",
      "5/5 [==============================] - 0s 62ms/step - loss: 0.0235 - accuracy: 1.0000 - val_loss: 0.4839 - val_accuracy: 0.7778\n",
      "Epoch 18/20\n",
      "5/5 [==============================] - 0s 57ms/step - loss: 0.0091 - accuracy: 1.0000 - val_loss: 0.4155 - val_accuracy: 0.8333\n",
      "Epoch 19/20\n",
      "5/5 [==============================] - 0s 63ms/step - loss: 0.0077 - accuracy: 1.0000 - val_loss: 0.5471 - val_accuracy: 0.8333\n",
      "Epoch 20/20\n",
      "5/5 [==============================] - 0s 46ms/step - loss: 0.0029 - accuracy: 1.0000 - val_loss: 0.7396 - val_accuracy: 0.7778\n"
     ]
    }
   ],
   "source": [
    "history = model.fit(image_train, labels_train_onehot,\n",
    "                    epochs=20,\n",
    "                    validation_split=0.1)"
   ]
  },
  {
   "cell_type": "code",
   "execution_count": 49,
   "metadata": {},
   "outputs": [
    {
     "data": {
      "image/png": "[encoded data removed]",
      "text/plain": [
       "<Figure size 432x288 with 1 Axes>"
      ]
     },
     "metadata": {
      "needs_background": "light"
     },
     "output_type": "display_data"
    },
    {
     "data": {
      "image/png": "[encoded data removed]",
      "text/plain": [
       "<Figure size 432x288 with 1 Axes>"
      ]
     },
     "metadata": {
      "needs_background": "light"
     },
     "output_type": "display_data"
    }
   ],
   "source": [
    "loss_curve = history.history[\"loss\"]\n",
    "acc_curve = history.history[\"accuracy\"]\n",
    "\n",
    "loss_val_curve = history.history[\"val_loss\"]\n",
    "acc_val_curve = history.history[\"val_accuracy\"]\n",
    "\n",
    "plt.plot(loss_curve, label=\"Train\")\n",
    "plt.plot(loss_val_curve, label=\"Val\")\n",
    "plt.legend(loc='upper left')\n",
    "plt.title(\"Loss\")\n",
    "plt.show()\n",
    "\n",
    "plt.plot(acc_curve, label=\"Train\")\n",
    "plt.plot(acc_val_curve, label=\"Val\")\n",
    "plt.legend(loc='upper left')\n",
    "plt.title(\"Accuracy\")\n",
    "plt.show()"
   ]
  },
  {
   "cell_type": "code",
   "execution_count": 50,
   "metadata": {},
   "outputs": [
    {
     "name": "stdout",
     "output_type": "stream",
     "text": [
      "2/2 [==============================] - 0s 19ms/step - loss: 0.3532 - accuracy: 0.8947\n",
      "Test Loss 0.35320332646369934\n",
      "Test Accuracy 0.8947368264198303\n"
     ]
    }
   ],
   "source": [
    "loss, acc = model.evaluate(image_test, labels_test_onehot)\n",
    "print(\"Test Loss\", loss)\n",
    "print(\"Test Accuracy\", acc)"
   ]
  },
  {
   "cell_type": "code",
   "execution_count": 51,
   "metadata": {},
   "outputs": [
    {
     "data": {
      "image/png": "[encoded data removed]",
      "text/plain": [
       "<Figure size 720x576 with 2 Axes>"
      ]
     },
     "metadata": {
      "needs_background": "light"
     },
     "output_type": "display_data"
    }
   ],
   "source": [
    "y_pred = np.argmax(model.predict(image_test), axis=1)\n",
    "\n",
    "yy = []\n",
    "for i in range(0,len(target_test_s)):\n",
    "    if target_test_s[i] == 'Gendarmerie':\n",
    "        yy.append(0)\n",
    "    if target_test_s[i] == 'Police':\n",
    "        yy.append(1)\n",
    "    if target_test_s[i] == 'Pompiers':\n",
    "        yy.append(2)\n",
    "    if target_test_s[i] == 'Samu':\n",
    "        yy.append(3)\n",
    "\n",
    "commands = []\n",
    "commands.append('Gendarmerie')\n",
    "commands.append('Police')\n",
    "commands.append('Pompiers')\n",
    "commands.append('Samu')\n",
    "\n",
    "y_true = yy\n",
    "\n",
    "confusion_mtx = tf.math.confusion_matrix(y_true, y_pred) \n",
    "plt.figure(figsize=(10, 8))\n",
    "sns.heatmap(confusion_mtx, xticklabels=commands, yticklabels=commands, \n",
    "            annot=True, fmt='g')\n",
    "plt.xlabel('Prediction')\n",
    "plt.ylabel('Label')\n",
    "plt.show()"
   ]
  }
 ],
 "metadata": {
  "kernelspec": {
   "display_name": "Python 3",
   "language": "python",
   "name": "python3"
  },
  "language_info": {
   "codemirror_mode": {
    "name": "ipython",
    "version": 3
   },
   "file_extension": ".py",
   "mimetype": "text/x-python",
   "name": "python",
   "nbconvert_exporter": "python",
   "pygments_lexer": "ipython3",
   "version": "3.7.4"
  }
 },
 "nbformat": 4,
 "nbformat_minor": 4
}
