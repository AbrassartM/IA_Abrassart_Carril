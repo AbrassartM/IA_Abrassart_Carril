{
 "cells": [
  {
   "cell_type": "markdown",
   "metadata": {},
   "source": [
    "# IA - Modèle CNN - BDD signaux acceptables"
   ]
  },
  {
   "cell_type": "code",
   "execution_count": 1,
   "metadata": {},
   "outputs": [],
   "source": [
    "import matplotlib.pyplot as plt\n",
    "import tensorflow as tf\n",
    "import numpy as np\n",
    "import Fonctions_BDD_Signaux_Artificiels as BDD\n",
    "from sklearn.preprocessing import OneHotEncoder\n",
    "import pandas as pd\n",
    "from sklearn.utils import shuffle\n",
    "from tensorflow.keras import datasets, layers, models\n",
    "\n",
    "from scipy import signal\n",
    "import scipy.io.wavfile as wav\n",
    "%matplotlib widget"
   ]
  },
  {
   "cell_type": "code",
   "execution_count": 2,
   "metadata": {},
   "outputs": [
    {
     "name": "stdout",
     "output_type": "stream",
     "text": [
      "Liste complète 228\n",
      "75% 171\n",
      "25% 57\n"
     ]
    }
   ],
   "source": [
    "liste_comp = BDD.BDD_type('A')\n",
    "\n",
    "liste_train = []\n",
    "liste_test = []\n",
    "\n",
    "for i in range(1,229):\n",
    "    if i % 4 == 0 :\n",
    "        liste_test.append(liste_comp[i-1])\n",
    "    else :\n",
    "        liste_train.append(liste_comp[i-1])\n",
    "\n",
    "print(\"Liste complète\", len(liste_comp))\n",
    "print(\"75%\", len(liste_train))\n",
    "print(\"25%\", len(liste_test))"
   ]
  },
  {
   "cell_type": "markdown",
   "metadata": {},
   "source": [
    "### Définition des labels"
   ]
  },
  {
   "cell_type": "code",
   "execution_count": 3,
   "metadata": {},
   "outputs": [
    {
     "name": "stdout",
     "output_type": "stream",
     "text": [
      "171\n",
      "57\n"
     ]
    }
   ],
   "source": [
    "target_train = []\n",
    "target_test = []\n",
    "\n",
    "for i in range(0,43):\n",
    "    target_train.append('Gendarmerie')\n",
    "for i in range(43,86):\n",
    "    target_train.append('Police')    \n",
    "for i in range(86,129):\n",
    "    target_train.append('Pompiers')\n",
    "for i in range(129,171):\n",
    "    target_train.append('Samu')\n",
    "\n",
    "for i in range(0,14):\n",
    "    target_test.append('Gendarmerie')\n",
    "for i in range(14,28):\n",
    "    target_test.append('Police')\n",
    "for i in range(28,42):\n",
    "    target_test.append('Pompiers')\n",
    "for i in range(42,57):\n",
    "    target_test.append('Samu')\n",
    "\n",
    "print(len(target_train))\n",
    "print(len(target_test))"
   ]
  },
  {
   "cell_type": "markdown",
   "metadata": {},
   "source": [
    "### Mélange de la BDD"
   ]
  },
  {
   "cell_type": "code",
   "execution_count": 4,
   "metadata": {},
   "outputs": [],
   "source": [
    "liste_test_s, target_test_s = shuffle(liste_test, target_test)\n",
    "liste_train_s, target_train_s = shuffle(liste_train, target_train)"
   ]
  },
  {
   "cell_type": "markdown",
   "metadata": {},
   "source": [
    "### Définition de image_train et image_test"
   ]
  },
  {
   "cell_type": "code",
   "execution_count": 5,
   "metadata": {},
   "outputs": [
    {
     "name": "stdout",
     "output_type": "stream",
     "text": [
      "(171, 41, 27, 1)\n",
      "(57, 41, 27, 1)\n"
     ]
    }
   ],
   "source": [
    "image_train = BDD.return_image(liste_train_s, 'C:/Users/abras/OneDrive - etu.sorbonne-universite.fr/M1/Projet/Projet_final/Sirenes artificielles')\n",
    "image_test = BDD.return_image(liste_test_s, 'C:/Users/abras/OneDrive - etu.sorbonne-universite.fr/M1/Projet/Projet_final/Sirenes artificielles')\n",
    "image_train = image_train[...,None]#Etape nécessaire à la detection des couleurs par les couches conv2D\n",
    "image_test = image_test[...,None]#Same\n",
    "print(image_train.shape)\n",
    "print(image_test.shape)"
   ]
  },
  {
   "cell_type": "markdown",
   "metadata": {},
   "source": [
    "### Encodage des label_train et label_test"
   ]
  },
  {
   "cell_type": "code",
   "execution_count": 6,
   "metadata": {},
   "outputs": [],
   "source": [
    "encodage = {\"Gendarmerie\":0, \"Police\":1, \"Pompiers\":2, \"Samu\":3}\n",
    "sirenes_labels_numeriques_train = []\n",
    "for label in target_train_s :\n",
    "    sirenes_labels_numeriques_train.append(encodage[label])\n",
    "\n",
    "sirenes_labels_numeriques_test = []\n",
    "for label in target_test_s :\n",
    "    sirenes_labels_numeriques_test.append(encodage[label])"
   ]
  },
  {
   "cell_type": "code",
   "execution_count": 7,
   "metadata": {},
   "outputs": [
    {
     "name": "stdout",
     "output_type": "stream",
     "text": [
      "(171, 4)\n",
      "(57, 4)\n"
     ]
    }
   ],
   "source": [
    "labels_train_onehot = tf.keras.utils.to_categorical(sirenes_labels_numeriques_train)\n",
    "labels_test_onehot = tf.keras.utils.to_categorical(sirenes_labels_numeriques_test)\n",
    "\n",
    "print(labels_train_onehot.shape)\n",
    "print(labels_test_onehot.shape)"
   ]
  },
  {
   "cell_type": "markdown",
   "metadata": {},
   "source": [
    "### IA test"
   ]
  },
  {
   "cell_type": "code",
   "execution_count": 8,
   "metadata": {},
   "outputs": [],
   "source": [
    "# On convertit nos valeurs en float\n",
    "\n",
    "image_train = image_train.astype(float)\n",
    "image_test = image_test.astype(float)\n",
    "\n",
    "# On normalise les pixels pour avoir des valeurs entre 0 et 1\n",
    "\n",
    "image_train = image_train/255\n",
    "image_test = image_test/255"
   ]
  },
  {
   "cell_type": "code",
   "execution_count": 9,
   "metadata": {},
   "outputs": [],
   "source": [
    "model = tf.keras.models.Sequential()"
   ]
  },
  {
   "cell_type": "code",
   "execution_count": 10,
   "metadata": {
    "scrolled": true
   },
   "outputs": [],
   "source": [
    "# model.add(layers.Conv2D(64, (2, 2), activation='relu', input_shape=(41, 27, 1)))\n",
    "# model.add(layers.MaxPooling2D((2, 2)))\n",
    "# model.add(layers.Conv2D(32, (3,3), activation='relu'))\n",
    "# model.add(layers.MaxPooling2D((2, 2)))\n",
    "# model.add(layers.Conv2D(64, (1, 1), activation='relu'))\n",
    "\n",
    "model.add(layers.Conv2D(32, (3, 3), activation='relu', input_shape=(41, 27, 1)))\n",
    "model.add(layers.MaxPooling2D((3, 3)))\n",
    "model.add(layers.Conv2D(32, (2, 2), activation='relu'))\n",
    "model.add(layers.MaxPooling2D((2, 2)))\n",
    "model.add(layers.Conv2D(64, (1, 1), activation='relu'))\n",
    "# model.add(layers.MaxPooling2D((2, 2)))\n",
    "# model.add(layers.Conv2D(64, (1, 1), activation='relu'))"
   ]
  },
  {
   "cell_type": "code",
   "execution_count": 11,
   "metadata": {},
   "outputs": [],
   "source": [
    "model.add(tf.keras.layers.Flatten())"
   ]
  },
  {
   "cell_type": "code",
   "execution_count": 12,
   "metadata": {},
   "outputs": [],
   "source": [
    "model.add(tf.keras.layers.Dense(100, activation=\"relu\"))\n",
    "model.add(tf.keras.layers.Dense(4,activation=\"softmax\"))"
   ]
  },
  {
   "cell_type": "code",
   "execution_count": 13,
   "metadata": {},
   "outputs": [
    {
     "name": "stdout",
     "output_type": "stream",
     "text": [
      "Model: \"sequential\"\n",
      "_________________________________________________________________\n",
      "Layer (type)                 Output Shape              Param #   \n",
      "=================================================================\n",
      "conv2d (Conv2D)              (None, 39, 25, 32)        320       \n",
      "_________________________________________________________________\n",
      "max_pooling2d (MaxPooling2D) (None, 13, 8, 32)         0         \n",
      "_________________________________________________________________\n",
      "conv2d_1 (Conv2D)            (None, 12, 7, 32)         4128      \n",
      "_________________________________________________________________\n",
      "max_pooling2d_1 (MaxPooling2 (None, 6, 3, 32)          0         \n",
      "_________________________________________________________________\n",
      "conv2d_2 (Conv2D)            (None, 6, 3, 64)          2112      \n",
      "_________________________________________________________________\n",
      "flatten (Flatten)            (None, 1152)              0         \n",
      "_________________________________________________________________\n",
      "dense (Dense)                (None, 100)               115300    \n",
      "_________________________________________________________________\n",
      "dense_1 (Dense)              (None, 4)                 404       \n",
      "=================================================================\n",
      "Total params: 122,264\n",
      "Trainable params: 122,264\n",
      "Non-trainable params: 0\n",
      "_________________________________________________________________\n"
     ]
    }
   ],
   "source": [
    "model.summary()"
   ]
  },
  {
   "cell_type": "code",
   "execution_count": 14,
   "metadata": {},
   "outputs": [],
   "source": [
    "model.compile(\n",
    "    loss=\"categorical_crossentropy\",\n",
    "    optimizer=\"adam\",\n",
    "    metrics=[\"accuracy\"]\n",
    ")"
   ]
  },
  {
   "cell_type": "code",
   "execution_count": 15,
   "metadata": {
    "scrolled": false
   },
   "outputs": [
    {
     "name": "stdout",
     "output_type": "stream",
     "text": [
      "Epoch 1/20\n",
      "5/5 [==============================] - 2s 274ms/step - loss: 10.4290 - accuracy: 0.2842 - val_loss: 13.3004 - val_accuracy: 0.2778\n",
      "Epoch 2/20\n",
      "5/5 [==============================] - 0s 56ms/step - loss: 8.6353 - accuracy: 0.2347 - val_loss: 2.3587 - val_accuracy: 0.2778\n",
      "Epoch 3/20\n",
      "5/5 [==============================] - 0s 57ms/step - loss: 1.9822 - accuracy: 0.3290 - val_loss: 1.6486 - val_accuracy: 0.5000\n",
      "Epoch 4/20\n",
      "5/5 [==============================] - 0s 57ms/step - loss: 1.9823 - accuracy: 0.3125 - val_loss: 1.4916 - val_accuracy: 0.3333\n",
      "Epoch 5/20\n",
      "5/5 [==============================] - 0s 56ms/step - loss: 1.1675 - accuracy: 0.5037 - val_loss: 1.8015 - val_accuracy: 0.2222\n",
      "Epoch 6/20\n",
      "5/5 [==============================] - 0s 56ms/step - loss: 1.1204 - accuracy: 0.5333 - val_loss: 1.4388 - val_accuracy: 0.5556\n",
      "Epoch 7/20\n",
      "5/5 [==============================] - 0s 59ms/step - loss: 0.9514 - accuracy: 0.5946 - val_loss: 1.2911 - val_accuracy: 0.5000\n",
      "Epoch 8/20\n",
      "5/5 [==============================] - 0s 56ms/step - loss: 0.6229 - accuracy: 0.7953 - val_loss: 1.3030 - val_accuracy: 0.5556\n",
      "Epoch 9/20\n",
      "5/5 [==============================] - 0s 52ms/step - loss: 0.6034 - accuracy: 0.7840 - val_loss: 1.1921 - val_accuracy: 0.4444\n",
      "Epoch 10/20\n",
      "5/5 [==============================] - 0s 55ms/step - loss: 0.4516 - accuracy: 0.8579 - val_loss: 1.1584 - val_accuracy: 0.5556\n",
      "Epoch 11/20\n",
      "5/5 [==============================] - 0s 58ms/step - loss: 0.4027 - accuracy: 0.8788 - val_loss: 1.1970 - val_accuracy: 0.5556\n",
      "Epoch 12/20\n",
      "5/5 [==============================] - 0s 58ms/step - loss: 0.2973 - accuracy: 0.9565 - val_loss: 1.2902 - val_accuracy: 0.5556\n",
      "Epoch 13/20\n",
      "5/5 [==============================] - 0s 56ms/step - loss: 0.2405 - accuracy: 0.9539 - val_loss: 1.3072 - val_accuracy: 0.5556\n",
      "Epoch 14/20\n",
      "5/5 [==============================] - 0s 57ms/step - loss: 0.1662 - accuracy: 0.9913 - val_loss: 1.3426 - val_accuracy: 0.5000\n",
      "Epoch 15/20\n",
      "5/5 [==============================] - 0s 56ms/step - loss: 0.1080 - accuracy: 0.9965 - val_loss: 1.4105 - val_accuracy: 0.5000\n",
      "Epoch 16/20\n",
      "5/5 [==============================] - 0s 76ms/step - loss: 0.1008 - accuracy: 1.0000 - val_loss: 1.3087 - val_accuracy: 0.5556\n",
      "Epoch 17/20\n",
      "5/5 [==============================] - 0s 52ms/step - loss: 0.0696 - accuracy: 1.0000 - val_loss: 1.5021 - val_accuracy: 0.4444\n",
      "Epoch 18/20\n",
      "5/5 [==============================] - 0s 65ms/step - loss: 0.0592 - accuracy: 1.0000 - val_loss: 1.4159 - val_accuracy: 0.5000\n",
      "Epoch 19/20\n",
      "5/5 [==============================] - ETA: 0s - loss: 0.0380 - accuracy: 1.00 - 0s 39ms/step - loss: 0.0386 - accuracy: 1.0000 - val_loss: 1.4090 - val_accuracy: 0.5556\n",
      "Epoch 20/20\n",
      "5/5 [==============================] - 0s 38ms/step - loss: 0.0312 - accuracy: 1.0000 - val_loss: 1.4785 - val_accuracy: 0.5000\n"
     ]
    }
   ],
   "source": [
    "history = model.fit(image_train, labels_train_onehot,\n",
    "                    epochs=20,\n",
    "                    validation_split=0.1)"
   ]
  },
  {
   "cell_type": "code",
   "execution_count": 16,
   "metadata": {},
   "outputs": [
    {
     "data": {
      "application/vnd.jupyter.widget-view+json": {
       "model_id": "e62e5f4bb64a4cc4b117b33d74dcea4f",
       "version_major": 2,
       "version_minor": 0
      },
      "text/plain": [
       "Canvas(toolbar=Toolbar(toolitems=[('Home', 'Reset original view', 'home', 'home'), ('Back', 'Back to previous …"
      ]
     },
     "metadata": {},
     "output_type": "display_data"
    },
    {
     "data": {
      "application/vnd.jupyter.widget-view+json": {
       "model_id": "e09afce464e743d58cabe57c981f3aae",
       "version_major": 2,
       "version_minor": 0
      },
      "text/plain": [
       "Canvas(toolbar=Toolbar(toolitems=[('Home', 'Reset original view', 'home', 'home'), ('Back', 'Back to previous …"
      ]
     },
     "metadata": {},
     "output_type": "display_data"
    }
   ],
   "source": [
    "loss_curve = history.history[\"loss\"]\n",
    "acc_curve = history.history[\"accuracy\"]\n",
    "\n",
    "loss_val_curve = history.history[\"val_loss\"]\n",
    "acc_val_curve = history.history[\"val_accuracy\"]\n",
    "\n",
    "plt.figure()\n",
    "plt.plot(loss_curve, label=\"Train\")\n",
    "plt.plot(loss_val_curve, label=\"Val\")\n",
    "plt.legend(loc='upper left')\n",
    "plt.title(\"Loss\")\n",
    "plt.show()\n",
    "\n",
    "plt.figure()\n",
    "plt.plot(acc_curve, label=\"Train\")\n",
    "plt.plot(acc_val_curve, label=\"Val\")\n",
    "plt.legend(loc='upper left')\n",
    "plt.title(\"Accuracy\")\n",
    "plt.show()"
   ]
  },
  {
   "cell_type": "code",
   "execution_count": 17,
   "metadata": {},
   "outputs": [
    {
     "name": "stdout",
     "output_type": "stream",
     "text": [
      "2/2 [==============================] - 0s 7ms/step - loss: 0.8027 - accuracy: 0.7544\n",
      "Test Loss 0.8027406930923462\n",
      "Test Accuracy 0.7543859481811523\n"
     ]
    }
   ],
   "source": [
    "loss, acc = model.evaluate(image_test, labels_test_onehot)\n",
    "print(\"Test Loss\", loss)\n",
    "print(\"Test Accuracy\", acc)"
   ]
  }
 ],
 "metadata": {
  "kernelspec": {
   "display_name": "Python 3",
   "language": "python",
   "name": "python3"
  },
  "language_info": {
   "codemirror_mode": {
    "name": "ipython",
    "version": 3
   },
   "file_extension": ".py",
   "mimetype": "text/x-python",
   "name": "python",
   "nbconvert_exporter": "python",
   "pygments_lexer": "ipython3",
   "version": "3.7.4"
  }
 },
 "nbformat": 4,
 "nbformat_minor": 4
}
